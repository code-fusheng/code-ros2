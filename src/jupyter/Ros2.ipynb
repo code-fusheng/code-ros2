{
 "cells": [
  {
   "cell_type": "code",
   "execution_count": 1,
   "id": "5626733b",
   "metadata": {},
   "outputs": [
    {
     "name": "stdout",
     "output_type": "stream",
     "text": [
      "hello ros2\n"
     ]
    }
   ],
   "source": [
    "print(\"hello ros2\")"
   ]
  },
  {
   "cell_type": "code",
   "execution_count": 61,
   "id": "85cbe710",
   "metadata": {},
   "outputs": [
    {
     "ename": "RuntimeError",
     "evalue": "Failed to init: rcl_init called on an already initialized context, at /tmp/binarydeb/ros-foxy-rcl-1.1.14/src/rcl/init.c:79",
     "output_type": "error",
     "traceback": [
      "\u001b[0;31m---------------------------------------------------------------------------\u001b[0m",
      "\u001b[0;31mRuntimeError\u001b[0m                              Traceback (most recent call last)",
      "Cell \u001b[0;32mIn[61], line 4\u001b[0m\n\u001b[1;32m      1\u001b[0m \u001b[38;5;28;01mimport\u001b[39;00m \u001b[38;5;21;01mrclpy\u001b[39;00m\n\u001b[1;32m      2\u001b[0m \u001b[38;5;28;01mfrom\u001b[39;00m \u001b[38;5;21;01mrclpy\u001b[39;00m\u001b[38;5;21;01m.\u001b[39;00m\u001b[38;5;21;01mnode\u001b[39;00m \u001b[38;5;28;01mimport\u001b[39;00m Node\n\u001b[0;32m----> 4\u001b[0m \u001b[43mrclpy\u001b[49m\u001b[38;5;241;43m.\u001b[39;49m\u001b[43minit\u001b[49m\u001b[43m(\u001b[49m\u001b[43m)\u001b[49m\n\u001b[1;32m      5\u001b[0m node \u001b[38;5;241m=\u001b[39m Node(\u001b[38;5;124m\"\u001b[39m\u001b[38;5;124mfs\u001b[39m\u001b[38;5;124m\"\u001b[39m)\n\u001b[1;32m      6\u001b[0m node\u001b[38;5;241m.\u001b[39mget_logger()\u001b[38;5;241m.\u001b[39minfo(\u001b[38;5;124m\"\u001b[39m\u001b[38;5;124mhello, i\u001b[39m\u001b[38;5;124m'\u001b[39m\u001b[38;5;124mm fs.\u001b[39m\u001b[38;5;124m\"\u001b[39m)\n",
      "File \u001b[0;32m/opt/ros/foxy/lib/python3.8/site-packages/rclpy/__init__.py:71\u001b[0m, in \u001b[0;36minit\u001b[0;34m(args, context)\u001b[0m\n\u001b[1;32m     63\u001b[0m \u001b[38;5;250m\u001b[39m\u001b[38;5;124;03m\"\"\"\u001b[39;00m\n\u001b[1;32m     64\u001b[0m \u001b[38;5;124;03mInitialize ROS communications for a given context.\u001b[39;00m\n\u001b[1;32m     65\u001b[0m \n\u001b[0;32m   (...)\u001b[0m\n\u001b[1;32m     68\u001b[0m \u001b[38;5;124;03m    (see :func:`.get_default_context`).\u001b[39;00m\n\u001b[1;32m     69\u001b[0m \u001b[38;5;124;03m\"\"\"\u001b[39;00m\n\u001b[1;32m     70\u001b[0m context \u001b[38;5;241m=\u001b[39m get_default_context() \u001b[38;5;28;01mif\u001b[39;00m context \u001b[38;5;129;01mis\u001b[39;00m \u001b[38;5;28;01mNone\u001b[39;00m \u001b[38;5;28;01melse\u001b[39;00m context\n\u001b[0;32m---> 71\u001b[0m \u001b[38;5;28;01mreturn\u001b[39;00m \u001b[43mcontext\u001b[49m\u001b[38;5;241;43m.\u001b[39;49m\u001b[43minit\u001b[49m\u001b[43m(\u001b[49m\u001b[43margs\u001b[49m\u001b[43m)\u001b[49m\n",
      "File \u001b[0;32m/opt/ros/foxy/lib/python3.8/site-packages/rclpy/context.py:59\u001b[0m, in \u001b[0;36mContext.init\u001b[0;34m(self, args, initialize_logging)\u001b[0m\n\u001b[1;32m     57\u001b[0m \u001b[38;5;28;01mglobal\u001b[39;00m g_logging_ref_count\n\u001b[1;32m     58\u001b[0m \u001b[38;5;28;01mwith\u001b[39;00m \u001b[38;5;28mself\u001b[39m\u001b[38;5;241m.\u001b[39m_handle \u001b[38;5;28;01mas\u001b[39;00m capsule, \u001b[38;5;28mself\u001b[39m\u001b[38;5;241m.\u001b[39m_lock:\n\u001b[0;32m---> 59\u001b[0m     \u001b[43mrclpy_implementation\u001b[49m\u001b[38;5;241;43m.\u001b[39;49m\u001b[43mrclpy_init\u001b[49m\u001b[43m(\u001b[49m\u001b[43margs\u001b[49m\u001b[43m \u001b[49m\u001b[38;5;28;43;01mif\u001b[39;49;00m\u001b[43m \u001b[49m\u001b[43margs\u001b[49m\u001b[43m \u001b[49m\u001b[38;5;129;43;01mis\u001b[39;49;00m\u001b[43m \u001b[49m\u001b[38;5;129;43;01mnot\u001b[39;49;00m\u001b[43m \u001b[49m\u001b[38;5;28;43;01mNone\u001b[39;49;00m\u001b[43m \u001b[49m\u001b[38;5;28;43;01melse\u001b[39;49;00m\u001b[43m \u001b[49m\u001b[43msys\u001b[49m\u001b[38;5;241;43m.\u001b[39;49m\u001b[43margv\u001b[49m\u001b[43m,\u001b[49m\u001b[43m \u001b[49m\u001b[43mcapsule\u001b[49m\u001b[43m)\u001b[49m\n\u001b[1;32m     60\u001b[0m     \u001b[38;5;28;01mif\u001b[39;00m initialize_logging \u001b[38;5;129;01mand\u001b[39;00m \u001b[38;5;129;01mnot\u001b[39;00m \u001b[38;5;28mself\u001b[39m\u001b[38;5;241m.\u001b[39m_logging_initialized:\n\u001b[1;32m     61\u001b[0m         \u001b[38;5;28;01mwith\u001b[39;00m g_logging_configure_lock:\n",
      "\u001b[0;31mRuntimeError\u001b[0m: Failed to init: rcl_init called on an already initialized context, at /tmp/binarydeb/ros-foxy-rcl-1.1.14/src/rcl/init.c:79"
     ]
    }
   ],
   "source": [
    "import rclpy\n",
    "from rclpy.node import Node\n",
    "\n",
    "rclpy.init()\n",
    "node = Node(\"fs\")\n",
    "node.get_logger().info(\"hello, i'm fs.\")\n",
    "rclpy.spin(node)\n",
    "rclpy.shutdown()"
   ]
  },
  {
   "cell_type": "markdown",
   "id": "e5f1f253",
   "metadata": {},
   "source": [
    "### Numpy"
   ]
  },
  {
   "cell_type": "code",
   "execution_count": 3,
   "id": "b9b82f2c",
   "metadata": {},
   "outputs": [],
   "source": [
    "import numpy as np"
   ]
  },
  {
   "cell_type": "code",
   "execution_count": 2,
   "id": "12e160b3",
   "metadata": {},
   "outputs": [
    {
     "name": "stdout",
     "output_type": "stream",
     "text": [
      "Looking in indexes: https://pypi.tuna.tsinghua.edu.cn/simple\n",
      "Collecting numpy\n",
      "  Downloading https://pypi.tuna.tsinghua.edu.cn/packages/98/5d/5738903efe0ecb73e51eb44feafba32bdba2081263d40c5043568ff60faf/numpy-1.24.4-cp38-cp38-manylinux_2_17_x86_64.manylinux2014_x86_64.whl (17.3 MB)\n",
      "\u001b[2K     \u001b[38;2;114;156;31m━━━━━━━━━━━━━━━━━━━━━━━━━━━━━━━━━━━━━━━━\u001b[0m \u001b[32m17.3/17.3 MB\u001b[0m \u001b[31m48.2 MB/s\u001b[0m eta \u001b[36m0:00:00\u001b[0mm eta \u001b[36m0:00:01\u001b[0m0:01\u001b[0m\n",
      "\u001b[?25hInstalling collected packages: numpy\n",
      "Successfully installed numpy-1.24.4\n"
     ]
    }
   ],
   "source": [
    "!pip install numpy  -i https://pypi.tuna.tsinghua.edu.cn/simple"
   ]
  },
  {
   "cell_type": "markdown",
   "id": "ebf7f70e",
   "metadata": {},
   "source": [
    "### 矩阵"
   ]
  },
  {
   "cell_type": "code",
   "execution_count": 6,
   "id": "fbfdb595",
   "metadata": {},
   "outputs": [
    {
     "data": {
      "text/plain": [
       "array([[1., 0., 0.],\n",
       "       [0., 1., 0.],\n",
       "       [0., 0., 1.]])"
      ]
     },
     "execution_count": 6,
     "metadata": {},
     "output_type": "execute_result"
    }
   ],
   "source": [
    "# 3*3 单位矩阵\n",
    "np.identity(3)"
   ]
  },
  {
   "cell_type": "code",
   "execution_count": 5,
   "id": "9e6a9d6d",
   "metadata": {},
   "outputs": [
    {
     "data": {
      "text/plain": [
       "array([[0., 0., 0.],\n",
       "       [0., 0., 0.],\n",
       "       [0., 0., 0.]])"
      ]
     },
     "execution_count": 5,
     "metadata": {},
     "output_type": "execute_result"
    }
   ],
   "source": [
    "# 3*3 零矩阵\n",
    "np.zeros([3,3])"
   ]
  },
  {
   "cell_type": "code",
   "execution_count": 7,
   "id": "8f52d4a1",
   "metadata": {},
   "outputs": [
    {
     "data": {
      "text/plain": [
       "array([[0.89293139, 0.69889736, 0.15092628],\n",
       "       [0.71154129, 0.0338613 , 0.09604417],\n",
       "       [0.71261978, 0.53391065, 0.58814573]])"
      ]
     },
     "execution_count": 7,
     "metadata": {},
     "output_type": "execute_result"
    }
   ],
   "source": [
    "# 随即矩阵\n",
    "np.random.rand(3,3)"
   ]
  },
  {
   "cell_type": "code",
   "execution_count": 8,
   "id": "6a543313",
   "metadata": {},
   "outputs": [
    {
     "data": {
      "text/plain": [
       "array([[1, 2],\n",
       "       [3, 4]])"
      ]
     },
     "execution_count": 8,
     "metadata": {},
     "output_type": "execute_result"
    }
   ],
   "source": [
    "# 从数组创建矩阵\n",
    "np.asarray([1,2,3,4]).reshape(2,2)"
   ]
  },
  {
   "cell_type": "code",
   "execution_count": 10,
   "id": "cabb825a",
   "metadata": {},
   "outputs": [
    {
     "name": "stdout",
     "output_type": "stream",
     "text": [
      "零矩阵 & 单位矩阵 : False\n"
     ]
    }
   ],
   "source": [
    "#  判断两个矩阵是否相等\n",
    "print(\"零矩阵 & 单位矩阵 :\", np.allclose(np.zeros([3,3]), np.identity(3)))"
   ]
  },
  {
   "cell_type": "code",
   "execution_count": 12,
   "id": "199c9b76",
   "metadata": {},
   "outputs": [
    {
     "name": "stdout",
     "output_type": "stream",
     "text": [
      "[[1. 2.]\n",
      " [3. 4.]]\n",
      "[0. 0.]\n",
      "[[1. 2.]\n",
      " [3. 4.]]\n",
      "[[-2.   1. ]\n",
      " [ 1.5 -0.5]]\n",
      "[[1.0000000e+00 0.0000000e+00]\n",
      " [8.8817842e-16 1.0000000e+00]]\n"
     ]
    }
   ],
   "source": [
    "# 矩阵四则运算\n",
    "A = np.asarray([1,2,3,4]).reshape(2,2)\n",
    "B = np.zeros(2)\n",
    "C = np.identity(2)\n",
    "A_INV = np.linalg.inv(A)\n",
    "print(np.add(A,B))\n",
    "print(np.dot(A,B))\n",
    "print(np.dot(A,C))\n",
    "print(A_INV)\n",
    "print(np.dot(A,A_INV))"
   ]
  },
  {
   "cell_type": "markdown",
   "id": "5c9c096e",
   "metadata": {},
   "source": [
    "> 需要注意的是，并不是所有的矩阵都有逆，比如零矩阵就没有逆，如果尝试用numpy来求逆则会出现错误"
   ]
  },
  {
   "cell_type": "code",
   "execution_count": 13,
   "id": "cc0331bd",
   "metadata": {},
   "outputs": [
    {
     "data": {
      "text/plain": [
       "array([[1, 3],\n",
       "       [2, 4]])"
      ]
     },
     "execution_count": 13,
     "metadata": {},
     "output_type": "execute_result"
    }
   ],
   "source": [
    "# 矩阵转置\n",
    "A = np.asarray([1,2,3,4]).reshape(2,2)\n",
    "A.T"
   ]
  },
  {
   "cell_type": "markdown",
   "id": "89f86ecb",
   "metadata": {},
   "source": [
    "## 空间描述"
   ]
  },
  {
   "cell_type": "code",
   "execution_count": 14,
   "id": "8455fccf",
   "metadata": {},
   "outputs": [
    {
     "data": {
      "text/plain": [
       "array([[1.],\n",
       "       [1.],\n",
       "       [1.]])"
      ]
     },
     "execution_count": 14,
     "metadata": {},
     "output_type": "execute_result"
    }
   ],
   "source": [
    "# 位置矩阵\n",
    "# 3*1\n",
    "np.asarray([1.0, 1.0, 1.0]).reshape(3,1)"
   ]
  },
  {
   "cell_type": "code",
   "execution_count": 18,
   "id": "c1a63cb3",
   "metadata": {},
   "outputs": [
    {
     "name": "stdout",
     "output_type": "stream",
     "text": [
      "[[ 0.70710678 -0.70710678  0.        ]\n",
      " [ 0.70710678  0.70710678  0.        ]\n",
      " [ 0.          0.          1.        ]]\n"
     ]
    }
   ],
   "source": [
    "# 姿态表示\n",
    "# 姿态可以使用 3*3 的旋转矩阵表示，3*3 的单位矩阵没有姿态变换\n",
    "# 新建一个旋转矩阵，表示绕着 z 轴旋转45度\n",
    "import math\n",
    "import numpy as np\n",
    "theta = math.radians(45)\n",
    "R_AB = np.asarray([math.cos(theta), -math.sin(theta), 0,\n",
    "            math.sin(theta), math.cos(theta), 0,\n",
    "            0, 0, 1\n",
    "           ]).reshape(3,3)\n",
    "print(R_AB)"
   ]
  },
  {
   "cell_type": "code",
   "execution_count": 21,
   "id": "4f2a3cd8",
   "metadata": {},
   "outputs": [
    {
     "name": "stdout",
     "output_type": "stream",
     "text": [
      "旋转矩阵 R_BP: \n",
      " [[ 1.  0.  0.]\n",
      " [ 0. -1. -0.]\n",
      " [ 0.  0. -1.]]\n"
     ]
    }
   ],
   "source": [
    "# 使用 numpy 求解矩阵 demo\n",
    "import math \n",
    "import numpy as np\n",
    "theta = math.radians(180)\n",
    "R_BC = np.asarray([1, 0, 0,\n",
    "                   0, math.cos(theta), -math.sin(theta),\n",
    "                   0, math.sin(theta), math.cos(theta)]).reshape(3, 3)\n",
    "R_BP = R_BC * np.identity(3)\n",
    "print(\"旋转矩阵 R_BP: \\n\", R_BP)"
   ]
  },
  {
   "cell_type": "code",
   "execution_count": 22,
   "id": "407932ab",
   "metadata": {},
   "outputs": [
    {
     "name": "stdout",
     "output_type": "stream",
     "text": [
      "位置矢量 P_BP: \n",
      " [[ 2. -1.  1.]]\n"
     ]
    }
   ],
   "source": [
    "# 平移矩阵求解\n",
    "P_BC = np.asarray([0, 0, 3]).reshape(3, 1)\n",
    "P_CP = np.asarray([2, 1, 2]).reshape(3, 1)\n",
    "P_BP = np.add(np.dot(R_BC, P_CP), P_BC)\n",
    "print(\"位置矢量 P_BP: \\n\", P_BP.T)"
   ]
  },
  {
   "cell_type": "code",
   "execution_count": 24,
   "id": "69aa268b",
   "metadata": {},
   "outputs": [
    {
     "name": "stdout",
     "output_type": "stream",
     "text": [
      "Looking in indexes: https://pypi.tuna.tsinghua.edu.cn/simple\n",
      "Collecting transforms3d\n",
      "  Downloading https://pypi.tuna.tsinghua.edu.cn/packages/bd/65/915840e94f946e878f3081da6f42c313162d23118bc2e81d7206600eaf00/transforms3d-0.4.1.tar.gz (1.4 MB)\n",
      "\u001b[2K     \u001b[38;2;114;156;31m━━━━━━━━━━━━━━━━━━━━━━━━━━━━━━━━━━━━━━━━\u001b[0m \u001b[32m1.4/1.4 MB\u001b[0m \u001b[31m6.1 MB/s\u001b[0m eta \u001b[36m0:00:00\u001b[0mm eta \u001b[36m0:00:01\u001b[0m0:01\u001b[0m:02\u001b[0m\n",
      "\u001b[?25h  Preparing metadata (setup.py) ... \u001b[?25ldone\n",
      "\u001b[?25hBuilding wheels for collected packages: transforms3d\n",
      "  Building wheel for transforms3d (setup.py) ... \u001b[?25ldone\n",
      "\u001b[?25h  Created wheel for transforms3d: filename=transforms3d-0.4.1-py3-none-any.whl size=1376757 sha256=51cd2fe256f429ab98ba65f9eba678085fa0c04c000141f2e46dfd05261d8e69\n",
      "  Stored in directory: /home/htc/.cache/pip/wheels/99/e7/6c/d671676f152ff96168052a4960c6f8988d7e838823c3f039eb\n",
      "Successfully built transforms3d\n",
      "Installing collected packages: transforms3d\n",
      "Successfully installed transforms3d-0.4.1\n"
     ]
    }
   ],
   "source": [
    "# 四元数转换\n",
    "!pip install transforms3d -i https://pypi.tuna.tsinghua.edu.cn/simple"
   ]
  },
  {
   "cell_type": "code",
   "execution_count": 25,
   "id": "063ea132",
   "metadata": {},
   "outputs": [
    {
     "data": {
      "text/plain": [
       "array([1., 0., 0., 0.])"
      ]
     },
     "execution_count": 25,
     "metadata": {},
     "output_type": "execute_result"
    }
   ],
   "source": [
    "# 四元数 与 旋转矩阵 互转\n",
    "import transforms3d as tfs\n",
    "import numpy as np\n",
    "# 四元数 转 旋转矩阵\n",
    "tfs.quaternions.quat2mat([1, 0, 0, 0])\n",
    "# 旋转矩阵 转 四元数\n",
    "tfs.quaternions.mat2quat(np.asarray([[1., 0., 0.],[0., 1., 0.],[0., 0., 1.]]))"
   ]
  },
  {
   "cell_type": "code",
   "execution_count": 26,
   "id": "7e334bbb",
   "metadata": {},
   "outputs": [
    {
     "data": {
      "text/plain": [
       "array([0.96891242, 0.24740396, 0.        , 0.        ])"
      ]
     },
     "execution_count": 26,
     "metadata": {},
     "output_type": "execute_result"
    }
   ],
   "source": [
    "# 四元数 与 轴角 互转\n",
    "import transforms3d as tfs\n",
    "import numpy as np \n",
    "# 四元数转旋轴角\n",
    "tfs.quaternions.quat2axangle([1,0,0,0])\n",
    "# 轴角转四元数\n",
    "tfs.quaternions.axangle2quat([1,0,0],0.5)"
   ]
  },
  {
   "cell_type": "code",
   "execution_count": 27,
   "id": "70c7a497",
   "metadata": {},
   "outputs": [
    {
     "data": {
      "text/plain": [
       "(0.0, -0.0, 0.0)"
      ]
     },
     "execution_count": 27,
     "metadata": {},
     "output_type": "execute_result"
    }
   ],
   "source": [
    "# 欧拉角 与 四元数 互转\n",
    "import transforms3d as tfs\n",
    "import numpy as np \n",
    "# 固定轴欧拉角转四元数\n",
    "tfs.euler.euler2quat(0,0,0,\"sxyz\")\n",
    "# 四元数转固定轴欧拉角\n",
    "tfs.euler.quat2euler([1,0,0,0],\"sxyz\")"
   ]
  },
  {
   "cell_type": "code",
   "execution_count": 29,
   "id": "355301ff",
   "metadata": {},
   "outputs": [
    {
     "data": {
      "text/plain": [
       "(0.0, -0.0, 0.0)"
      ]
     },
     "execution_count": 29,
     "metadata": {},
     "output_type": "execute_result"
    }
   ],
   "source": [
    "# 欧拉角 与 旋转矩阵 互转\n",
    "import transforms3d as tfs\n",
    "import numpy as np \n",
    "# 固定轴欧拉角转旋转矩阵\n",
    "tfs.euler.euler2mat(0,0,0,\"sxyz\")\n",
    "# 旋转矩阵转固定轴欧拉角\n",
    "tfs.euler.mat2euler(np.asarray([[1., 0., 0.],[0., 1., 0.],[0., 0., 1.]]),\"sxyz\")"
   ]
  },
  {
   "cell_type": "code",
   "execution_count": 30,
   "id": "0260042d",
   "metadata": {},
   "outputs": [
    {
     "data": {
      "text/plain": [
       "(0.5, -0.0, 0.0)"
      ]
     },
     "execution_count": 30,
     "metadata": {},
     "output_type": "execute_result"
    }
   ],
   "source": [
    "# 欧拉角 与 轴角互转\n",
    "import transforms3d as tfs\n",
    "import numpy as np \n",
    "# 固定轴欧拉角轴角\n",
    "tfs.euler.euler2axangle(0,0,0,\"sxyz\")\n",
    "# 轴角转固定轴欧拉角\n",
    "tfs.euler.axangle2euler([1,0,0],0.5,\"sxyz\")"
   ]
  },
  {
   "cell_type": "code",
   "execution_count": 31,
   "id": "1e7a81f3",
   "metadata": {},
   "outputs": [
    {
     "data": {
      "text/plain": [
       "(array([0., 0., 1.]), 0.0)"
      ]
     },
     "execution_count": 31,
     "metadata": {},
     "output_type": "execute_result"
    }
   ],
   "source": [
    "# 轴角相关转换\n",
    "import transforms3d as tfs\n",
    "import numpy as np \n",
    "# 轴角转旋转矩阵\n",
    "tfs.axangles.axangle2mat([1,0,0],0.5)\n",
    "# 旋转矩阵转轴角\n",
    "tfs.axangles.mat2axangle(np.asarray([[1., 0., 0.],[0., 1., 0.],[0., 0., 1.]]))"
   ]
  },
  {
   "cell_type": "code",
   "execution_count": 33,
   "id": "5fb462f1",
   "metadata": {},
   "outputs": [
    {
     "data": {
      "text/plain": [
       "(array([[1., 0., 0.],\n",
       "        [0., 1., 0.],\n",
       "        [0., 0., 1.]]),\n",
       " array([1, 0, 1]))"
      ]
     },
     "execution_count": 33,
     "metadata": {},
     "output_type": "execute_result"
    }
   ],
   "source": [
    "# 齐次坐标变换\n",
    "import numpy as np\n",
    "import transforms3d as tfs\n",
    "# 定义旋转矩阵R和平移向量T\n",
    "R = np.asarray([[1., 0., 0.],[0., 1., 0.],[0., 0., 1.]])\n",
    "T = np.asarray([1,0,1])\n",
    "R,T"
   ]
  },
  {
   "cell_type": "code",
   "execution_count": 34,
   "id": "7af5bd4e",
   "metadata": {},
   "outputs": [
    {
     "data": {
      "text/plain": [
       "array([[1., 0., 0., 1.],\n",
       "       [0., 1., 0., 0.],\n",
       "       [0., 0., 1., 1.],\n",
       "       [0., 0., 0., 1.]])"
      ]
     },
     "execution_count": 34,
     "metadata": {},
     "output_type": "execute_result"
    }
   ],
   "source": [
    "# 使用numpy方法合成齐次变换矩阵\n",
    "temp = np.hstack((R,T.reshape(3,1)))\n",
    "np.vstack((temp,[0,0,0,1]))"
   ]
  },
  {
   "cell_type": "code",
   "execution_count": 35,
   "id": "a3446676",
   "metadata": {},
   "outputs": [
    {
     "data": {
      "text/plain": [
       "array([[1., 0., 0., 1.],\n",
       "       [0., 1., 0., 0.],\n",
       "       [0., 0., 1., 1.],\n",
       "       [0., 0., 0., 1.]])"
      ]
     },
     "execution_count": 35,
     "metadata": {},
     "output_type": "execute_result"
    }
   ],
   "source": [
    "# 使用tfs中的函数合成齐次变换矩阵\n",
    "tfs.affines.compose(T,R,[1,1,1])"
   ]
  },
  {
   "cell_type": "code",
   "execution_count": 36,
   "id": "ac3e5e00",
   "metadata": {},
   "outputs": [
    {
     "data": {
      "text/plain": [
       "array([[1., 0., 0., 1.],\n",
       "       [0., 1., 0., 0.],\n",
       "       [0., 0., 1., 1.],\n",
       "       [0., 0., 0., 1.]])"
      ]
     },
     "execution_count": 36,
     "metadata": {},
     "output_type": "execute_result"
    }
   ],
   "source": [
    "# 四元数+平移向量\n",
    "# 先将四元数转换成旋转矩阵，然后再利用1.1合成齐次矩阵\n",
    "R = tfs.quaternions.quat2mat([1,0,0,0])\n",
    "tfs.affines.compose(T,R,[1,1,1])"
   ]
  },
  {
   "cell_type": "code",
   "execution_count": 1,
   "id": "a262a01b",
   "metadata": {},
   "outputs": [],
   "source": [
    "# 静态广播发布器\n",
    "\n",
    "import rclpy\n",
    "from rclpy.node import Node"
   ]
  },
  {
   "cell_type": "code",
   "execution_count": 38,
   "id": "9259db07",
   "metadata": {
    "collapsed": true
   },
   "outputs": [
    {
     "name": "stdout",
     "output_type": "stream",
     "text": [
      "# This expresses a transform from coordinate frame header.frame_id\r\n",
      "# to the coordinate frame child_frame_id at the time of header.stamp\r\n",
      "#\r\n",
      "# This message is mostly used by the\r\n",
      "# <a href=\"https://index.ros.org/p/tf2/\">tf2</a> package.\r\n",
      "# See its documentation for more information.\r\n",
      "#\r\n",
      "# The child_frame_id is necessary in addition to the frame_id\r\n",
      "# in the Header to communicate the full reference for the transform\r\n",
      "# in a self contained message.\r\n",
      "\r\n",
      "# The frame id in the header is used as the reference frame of this transform.\r\n",
      "std_msgs/Header header\r\n",
      "\r\n",
      "# The frame id of the child frame to which this transform points.\r\n",
      "string child_frame_id\r\n",
      "\r\n",
      "# Translation and rotation in 3-dimensions of child_frame_id from header.frame_id.\r\n",
      "Transform transform\r\n"
     ]
    }
   ],
   "source": [
    "!ros2 interface show geometry_msgs/msg/TransformStamped"
   ]
  },
  {
   "cell_type": "code",
   "execution_count": 2,
   "id": "40cc34cc",
   "metadata": {},
   "outputs": [],
   "source": [
    "from geometry_msgs.msg import TransformStamped\n",
    "# 从 tf2_ros 包中导入静态坐标变换广播器\n",
    "from tf2_ros import StaticTransformBroadcaster"
   ]
  },
  {
   "cell_type": "code",
   "execution_count": null,
   "id": "6a36e760",
   "metadata": {},
   "outputs": [],
   "source": [
    "# 初始化节点\n",
    "rclpy.init()\n",
    "node = Node(\"transform_node\")\n",
    "# 构造静态广播发布器\n",
    "static_tf_pub = StaticTransformBroadcaster(node)\n",
    "# 构造 TF 帧\n",
    "t = TransformStamped()\n",
    "t.header.stamp = node.get_clock().now().to_msg()\n",
    "# parent-name 基坐标系B\n",
    "t.header.frame_id = 'B'\n",
    "# chrild-name 相机坐标系C\n",
    "t.header.frame_id = 'C'\n",
    "# 平移关系，单位 m\n",
    "t.transform.translation.x = 0.0\n",
    "t.transform.translation.y = 0.0\n",
    "t.transform.translation.z = 3.0\n",
    "\n",
    "t.transform.rotation.x = 0.0\n",
    "t.transform.rotation.y = 0.0\n",
    "t.transform.rotation.z = 0.0\n",
    "t.transform.rotation.w = 0.0"
   ]
  },
  {
   "cell_type": "code",
   "execution_count": null,
   "id": "bda425fd",
   "metadata": {},
   "outputs": [],
   "source": [
    "# 静态广播\n",
    "# static_tf_pub.sendTransform(t)\n",
    "# 10hz 发布坐标关系\n",
    "def send_transfrom():\n",
    "    t.header.stamp = node.get_lock().now().to_msg()\n",
    "    tf.pub.sendTransform(t)\n",
    "node.create_timer(0.1, send+transform)\n",
    "rclpy.spin(node)"
   ]
  },
  {
   "cell_type": "code",
   "execution_count": null,
   "id": "dbec2d06",
   "metadata": {},
   "outputs": [],
   "source": [
    "!ros2 run tf2_ros tf2_echo B C"
   ]
  }
 ],
 "metadata": {
  "kernelspec": {
   "display_name": "Python 3 (ipykernel)",
   "language": "python",
   "name": "python3"
  },
  "language_info": {
   "codemirror_mode": {
    "name": "ipython",
    "version": 3
   },
   "file_extension": ".py",
   "mimetype": "text/x-python",
   "name": "python",
   "nbconvert_exporter": "python",
   "pygments_lexer": "ipython3",
   "version": "3.8.10"
  }
 },
 "nbformat": 4,
 "nbformat_minor": 5
}
